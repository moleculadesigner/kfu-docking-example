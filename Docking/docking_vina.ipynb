{
 "cells": [
  {
   "cell_type": "markdown",
   "metadata": {
    "id": "WbOWxrpvvk4P"
   },
   "source": [
    "# Практикум по докингу ч.1\n",
    "На этом занятии разберемся, как подготовить белок и лиганды к докингу в Autodock Vina, запустить докинг и проанализировать результаты\n",
    "\n",
    "Для начала работы нужны следующие файлы:\n",
    "- `data/7e2y-receptor.pdb` – структура рецептора без лиганда\n",
    "- `data/5ht1a-chembl-ki-selected.sdf` – структуры лигандов, выбранные на семинаре"
   ]
  },
  {
   "cell_type": "markdown",
   "metadata": {
    "id": "gobtKDi3v9BV"
   },
   "source": [
    "### Устанавливаем необходимые библиотеки"
   ]
  },
  {
   "cell_type": "code",
   "execution_count": null,
   "metadata": {
    "colab": {
     "base_uri": "https://localhost:8080/"
    },
    "id": "SmnHo7Iyv40Q",
    "outputId": "4c09bfd9-3501-49b1-ea84-d57af5efc71a"
   },
   "outputs": [],
   "source": [
    "!pip install rdkit meeko"
   ]
  },
  {
   "cell_type": "markdown",
   "metadata": {
    "id": "EbVtoJcCz7G4"
   },
   "source": [
    "### Устанавливаем Vina"
   ]
  },
  {
   "cell_type": "code",
   "execution_count": null,
   "metadata": {
    "colab": {
     "base_uri": "https://localhost:8080/"
    },
    "id": "xWbYPtfcvfL5",
    "outputId": "4734e540-220d-46a9-ffc3-1da3f65976ee"
   },
   "outputs": [],
   "source": [
    "!wget https://github.com/ccsb-scripps/AutoDock-Vina/releases/download/v1.2.3/vina_1.2.3_linux_x86_64\n",
    "!mv vina_1.2.3_linux_x86_64 vina\n",
    "!chmod 755 -R ./vina"
   ]
  },
  {
   "cell_type": "code",
   "execution_count": 1,
   "metadata": {
    "id": "B2c90otJzvw_"
   },
   "outputs": [],
   "source": [
    "alias vina ./vina"
   ]
  },
  {
   "cell_type": "code",
   "execution_count": 2,
   "metadata": {
    "colab": {
     "base_uri": "https://localhost:8080/"
    },
    "id": "EYOhxANpzyZa",
    "outputId": "956ca21c-10b4-4414-b9ec-f33cd739e8fb"
   },
   "outputs": [
    {
     "name": "stdout",
     "output_type": "stream",
     "text": [
      "AutoDock Vina v1.2.3\n"
     ]
    }
   ],
   "source": [
    "%vina --version"
   ]
  },
  {
   "cell_type": "markdown",
   "metadata": {
    "id": "3_rOgg4h0Q6z"
   },
   "source": [
    "### Устанавливаем OpenBabel\n",
    "*Если работаете из образа `jupyter/scipy-notebook`, то отдельно в терминале нужно запустить*\n",
    "``` bash\n",
    "sudo apt-get update\n",
    "sudo apt-get install openbabel\n",
    "```\n",
    "*и ввесли пароль `jupyter`. Если из гугл-колаба – просто запускаем следующую ячейку*"
   ]
  },
  {
   "cell_type": "code",
   "execution_count": null,
   "metadata": {
    "colab": {
     "base_uri": "https://localhost:8080/"
    },
    "id": "Dv5zAbTaz3ZC",
    "outputId": "6f51d20f-cf1c-425a-9b00-7c45c678e13a"
   },
   "outputs": [],
   "source": [
    "!apt install openbabel"
   ]
  },
  {
   "cell_type": "code",
   "execution_count": 3,
   "metadata": {
    "colab": {
     "base_uri": "https://localhost:8080/"
    },
    "id": "0B-IIDkE0Wej",
    "outputId": "2e0ccaa2-b7d9-47bd-d421-886889688a1f"
   },
   "outputs": [
    {
     "name": "stdout",
     "output_type": "stream",
     "text": [
      "Open Babel 3.1.1 -- Feb  7 2022 -- 06:51:49\n"
     ]
    }
   ],
   "source": [
    "!obabel -V"
   ]
  },
  {
   "cell_type": "markdown",
   "metadata": {
    "id": "vaU_c2pr2U5C"
   },
   "source": [
    "## Подготовка бокса\n",
    "\n",
    "Для того, чтобы получить координаты, необходимо:\n",
    "\n",
    "1. Иметь установленный PyMol\n",
    "2. Установить в PyMol плагин [GetBox,](https://github.com/MengwuXiao/GetBox-PyMOL-Plugin/tree/master) следуя инструкциям из репозитория\n",
    "3. Загрузить в PyMol нужный белок (пусть будет человеческий альбумин 7Y2D)\n",
    "4. Выбрать интересующий лиганд\n",
    "5. Plugin -> Legacy Plugins -> GetBox Plugin -> Get box from selection (sele)\n",
    "6. Выбрать из полученных вариантов терминале PyMol координаты для Vina\n",
    "\n",
    "Для примера:\n",
    "\n",
    "```\n",
    "TITLE     HSA-Cu agent complex\n",
    " ExecutiveLoad-Detail: Detected mmCIF\n",
    " CmdLoad: \"./7y2d.cif\" loaded as \"7Y2D\".\n",
    " You clicked /7Y2D/H/A/IC4`1007/C17\n",
    " Selector: selection \"sele\" defined with 18 atoms.\n",
    "*********AutoDock Vina Binding Pocket*********\n",
    "--center_x 30.8 --center_y -1.1 --center_z 31.2 --size_x 14.1 --size_y 18.6 --size_z 18.0\n",
    "\n",
    "*********AutoDock Grid Option*********\n",
    "npts 37 49 48 # num. grid points in xyz\n",
    "spacing 0.375 # spacing (A)\n",
    "gridcenter 30.834 -1.082 31.161 # xyz-coordinates or auto\n",
    "\n",
    "*********LeDock Binding Pocket*********\n",
    "Binding pocket\n",
    "23.8 37.9\n",
    "-10.4 8.2\n",
    "22.2 40.2\n",
    "\n",
    "BoxCode(box_9663) = showbox 23.8, 37.9, -10.4, 8.2, 22.2, 40.2\n",
    "\n",
    "```\n",
    "\n",
    "Нас интересует эта строка:\n",
    "\n",
    "\n",
    "```\n",
    "*********AutoDock Vina Binding Pocket*********\n",
    "--center_x 30.8 --center_y -1.1 --center_z 31.2 --size_x 14.1 --size_y 18.6 --size_z 18.0\n",
    "```\n",
    "\n",
    "Сохраним её значения в переменные:"
   ]
  },
  {
   "cell_type": "code",
   "execution_count": 4,
   "metadata": {
    "id": "aCWundQn0lnV"
   },
   "outputs": [],
   "source": [
    "# 7e2y\n",
    "#--center_x 128.9 --center_y 125.8 --center_z 136.9 --size_x 17.4 --size_y 17.5 --size_z 15.6\n",
    "center = (128.9, 125.8, 136.9)\n",
    "size = (18, 18, 18)"
   ]
  },
  {
   "cell_type": "markdown",
   "metadata": {
    "id": "Wi5qo_9J6lCJ"
   },
   "source": [
    "## Подготовка рецептора\n",
    "`--partialcharge gasteiger`: метод задания частичных зарядов\n",
    "\n",
    "`-p 7.4`: pH среды\n",
    "\n",
    "`-xr`: сгенерировать жесткий рецептор"
   ]
  },
  {
   "cell_type": "code",
   "execution_count": 5,
   "metadata": {
    "colab": {
     "base_uri": "https://localhost:8080/"
    },
    "id": "xSFvvUn86kIg",
    "outputId": "e2c4c1f4-54b3-438e-c5c6-98daace8ba4d"
   },
   "outputs": [
    {
     "name": "stdout",
     "output_type": "stream",
     "text": [
      "==============================\n",
      "*** Open Babel Warning  in PerceiveBondOrders\n",
      "  Failed to kekulize aromatic bonds in OBMol::PerceiveBondOrders (title is data/7e2y-receptor.pdb)\n",
      "\n",
      "1 molecule converted\n"
     ]
    }
   ],
   "source": [
    "!obabel data/7e2y-receptor.pdb --partialcharge gasteiger -p 7.4 -O data/7e2y-receptor.pdbqt -xr"
   ]
  },
  {
   "cell_type": "markdown",
   "metadata": {
    "id": "HvaBv-yT8vO4"
   },
   "source": [
    "## Подготорка лиганда\n"
   ]
  },
  {
   "cell_type": "code",
   "execution_count": 6,
   "metadata": {
    "id": "0uZWNZYt8Tay"
   },
   "outputs": [],
   "source": [
    "from meeko import MoleculePreparation\n",
    "from meeko import PDBQTWriterLegacy\n",
    "from meeko import PDBQTMolecule\n",
    "from meeko import RDKitMolCreate\n",
    "from rdkit import Chem\n",
    "from rdkit.Chem import rdDistGeom\n",
    "from rdkit.Chem.rdmolfiles import SDMolSupplier, SDWriter\n",
    "from pathlib import Path\n",
    "\n",
    "from subprocess import run"
   ]
  },
  {
   "cell_type": "code",
   "execution_count": 7,
   "metadata": {
    "id": "goi-N23Nl_cl"
   },
   "outputs": [],
   "source": [
    "ligands = [\n",
    "    (\"VERNAKALANT\", \"COc1ccc(CCO[C@@H]2CCCC[C@H]2N2CC[C@@H](O)C2)cc1OC\"),\n",
    "    (\"AZD1305\", \"CC(C)(C)OC(=O)NCCN1CC2CN(CCOc3ccc(C#N)cc3F)CC(C1)O2\")\n",
    "]"
   ]
  },
  {
   "cell_type": "code",
   "execution_count": 8,
   "metadata": {
    "id": "wKc-P5ArTj31"
   },
   "outputs": [],
   "source": [
    "PREPARATOR = MoleculePreparation(\n",
    "    min_ring_size=5  # Циклы > 5 становятся гибкими\n",
    ")\n",
    "\n",
    "def rdmol_to_pdbqt_string(mol):\n",
    "    preparator = PREPARATOR\n",
    "\n",
    "    ligand = Chem.rdmolops.AddHs(mol)\n",
    "    rdDistGeom.EmbedMolecule(ligand)\n",
    "\n",
    "    mol_setups = preparator.prepare(ligand)\n",
    "\n",
    "    for setup in mol_setups:\n",
    "        pdbqt_string, is_ok, error_msg = PDBQTWriterLegacy.write_string(setup)\n",
    "        if is_ok:\n",
    "            return pdbqt_string\n",
    "        else:\n",
    "            raise ValueError(error_msg)"
   ]
  },
  {
   "cell_type": "code",
   "execution_count": 9,
   "metadata": {
    "id": "3Ca9-KZd9tEF"
   },
   "outputs": [],
   "source": [
    "def smi_to_lig_pdbqt(name: str, smiles: str):\n",
    "    preparator = MoleculePreparation(\n",
    "        min_ring_size=5 # Циклы > 5 становятся гибкими\n",
    "    )\n",
    "    ligand = Chem.MolFromSmiles(smiles)\n",
    "\n",
    "    pdbqt_string = rdmol_to_pdbqt_string(ligand)\n",
    "\n",
    "    with open(f\"/content/{name}_ligand.pdbqt\", \"w\") as ligand_pdbqt:\n",
    "        ligand_pdbqt.write(pdbqt_string)"
   ]
  },
  {
   "cell_type": "code",
   "execution_count": 10,
   "metadata": {
    "id": "ACodrxaFS46F"
   },
   "outputs": [],
   "source": [
    "def sdf_to_pdbqts(sdf_path):\n",
    "    pdbqt_fname_prefix = sdf_path.stem\n",
    "    pdbqt_dir = sdf_path.parent / pdbqt_fname_prefix\n",
    "    pdbqt_dir.mkdir(parents=False, exist_ok=True)\n",
    "\n",
    "    with SDMolSupplier(sdf_path.resolve().absolute().as_posix()) as sdf_suppl:\n",
    "        for n, mol in enumerate(sdf_suppl):\n",
    "            ligand_pdbqt_string = rdmol_to_pdbqt_string(mol)\n",
    "            with (pdbqt_dir / f\"ligand_{n:>02}.pdbqt\").open(\"w\") as ligfile:\n",
    "                ligfile.write(ligand_pdbqt_string)\n",
    "    return pdbqt_dir"
   ]
  },
  {
   "cell_type": "code",
   "execution_count": 11,
   "metadata": {
    "colab": {
     "base_uri": "https://localhost:8080/"
    },
    "id": "HH38G5OqVLPt",
    "outputId": "af7f0b1b-212e-4884-9ea5-366b58273272"
   },
   "outputs": [
    {
     "name": "stderr",
     "output_type": "stream",
     "text": [
      "[10:54:09] Warning: molecule is tagged as 2D, but at least one Z coordinate is not zero. Marking the mol as 3D.\n",
      "[10:54:09] Warning: molecule is tagged as 2D, but at least one Z coordinate is not zero. Marking the mol as 3D.\n",
      "[10:54:09] Warning: molecule is tagged as 2D, but at least one Z coordinate is not zero. Marking the mol as 3D.\n",
      "[10:54:10] Warning: molecule is tagged as 2D, but at least one Z coordinate is not zero. Marking the mol as 3D.\n",
      "[10:54:10] Warning: molecule is tagged as 2D, but at least one Z coordinate is not zero. Marking the mol as 3D.\n",
      "[10:54:10] Warning: molecule is tagged as 2D, but at least one Z coordinate is not zero. Marking the mol as 3D.\n",
      "[10:54:10] Warning: molecule is tagged as 2D, but at least one Z coordinate is not zero. Marking the mol as 3D.\n",
      "[10:54:10] Warning: molecule is tagged as 2D, but at least one Z coordinate is not zero. Marking the mol as 3D.\n",
      "[10:54:10] Warning: molecule is tagged as 2D, but at least one Z coordinate is not zero. Marking the mol as 3D.\n",
      "[10:54:10] Warning: molecule is tagged as 2D, but at least one Z coordinate is not zero. Marking the mol as 3D.\n",
      "[10:54:10] Warning: molecule is tagged as 2D, but at least one Z coordinate is not zero. Marking the mol as 3D.\n",
      "[10:54:10] Warning: molecule is tagged as 2D, but at least one Z coordinate is not zero. Marking the mol as 3D.\n",
      "[10:54:10] Warning: molecule is tagged as 2D, but at least one Z coordinate is not zero. Marking the mol as 3D.\n",
      "[10:54:10] Warning: molecule is tagged as 2D, but at least one Z coordinate is not zero. Marking the mol as 3D.\n",
      "[10:54:10] Warning: molecule is tagged as 2D, but at least one Z coordinate is not zero. Marking the mol as 3D.\n",
      "[10:54:10] Warning: molecule is tagged as 2D, but at least one Z coordinate is not zero. Marking the mol as 3D.\n",
      "[10:54:10] Warning: molecule is tagged as 2D, but at least one Z coordinate is not zero. Marking the mol as 3D.\n",
      "[10:54:10] Warning: molecule is tagged as 2D, but at least one Z coordinate is not zero. Marking the mol as 3D.\n",
      "[10:54:10] Warning: molecule is tagged as 2D, but at least one Z coordinate is not zero. Marking the mol as 3D.\n",
      "[10:54:10] Warning: molecule is tagged as 2D, but at least one Z coordinate is not zero. Marking the mol as 3D.\n",
      "[10:54:10] Warning: molecule is tagged as 2D, but at least one Z coordinate is not zero. Marking the mol as 3D.\n",
      "[10:54:10] Warning: molecule is tagged as 2D, but at least one Z coordinate is not zero. Marking the mol as 3D.\n",
      "[10:54:11] Warning: molecule is tagged as 2D, but at least one Z coordinate is not zero. Marking the mol as 3D.\n",
      "[10:54:11] Warning: molecule is tagged as 2D, but at least one Z coordinate is not zero. Marking the mol as 3D.\n",
      "[10:54:11] Warning: molecule is tagged as 2D, but at least one Z coordinate is not zero. Marking the mol as 3D.\n",
      "[10:54:11] Warning: molecule is tagged as 2D, but at least one Z coordinate is not zero. Marking the mol as 3D.\n",
      "[10:54:11] Warning: molecule is tagged as 2D, but at least one Z coordinate is not zero. Marking the mol as 3D.\n",
      "[10:54:11] Warning: molecule is tagged as 2D, but at least one Z coordinate is not zero. Marking the mol as 3D.\n",
      "[10:54:11] Warning: molecule is tagged as 2D, but at least one Z coordinate is not zero. Marking the mol as 3D.\n",
      "[10:54:11] Warning: molecule is tagged as 2D, but at least one Z coordinate is not zero. Marking the mol as 3D.\n",
      "[10:54:11] Warning: molecule is tagged as 2D, but at least one Z coordinate is not zero. Marking the mol as 3D.\n",
      "[10:54:11] Warning: molecule is tagged as 2D, but at least one Z coordinate is not zero. Marking the mol as 3D.\n",
      "[10:54:11] Warning: molecule is tagged as 2D, but at least one Z coordinate is not zero. Marking the mol as 3D.\n",
      "[10:54:11] Warning: molecule is tagged as 2D, but at least one Z coordinate is not zero. Marking the mol as 3D.\n",
      "[10:54:11] Warning: molecule is tagged as 2D, but at least one Z coordinate is not zero. Marking the mol as 3D.\n",
      "[10:54:11] Warning: molecule is tagged as 2D, but at least one Z coordinate is not zero. Marking the mol as 3D.\n",
      "[10:54:11] Warning: molecule is tagged as 2D, but at least one Z coordinate is not zero. Marking the mol as 3D.\n",
      "[10:54:11] Warning: molecule is tagged as 2D, but at least one Z coordinate is not zero. Marking the mol as 3D.\n",
      "[10:54:11] Warning: molecule is tagged as 2D, but at least one Z coordinate is not zero. Marking the mol as 3D.\n",
      "[10:54:11] Warning: molecule is tagged as 2D, but at least one Z coordinate is not zero. Marking the mol as 3D.\n",
      "[10:54:12] Warning: molecule is tagged as 2D, but at least one Z coordinate is not zero. Marking the mol as 3D.\n",
      "[10:54:12] Warning: molecule is tagged as 2D, but at least one Z coordinate is not zero. Marking the mol as 3D.\n",
      "[10:54:12] Warning: molecule is tagged as 2D, but at least one Z coordinate is not zero. Marking the mol as 3D.\n",
      "[10:54:12] Warning: molecule is tagged as 2D, but at least one Z coordinate is not zero. Marking the mol as 3D.\n",
      "[10:54:12] Warning: molecule is tagged as 2D, but at least one Z coordinate is not zero. Marking the mol as 3D.\n",
      "[10:54:12] Warning: molecule is tagged as 2D, but at least one Z coordinate is not zero. Marking the mol as 3D.\n",
      "[10:54:12] Warning: molecule is tagged as 2D, but at least one Z coordinate is not zero. Marking the mol as 3D.\n",
      "[10:54:12] Warning: molecule is tagged as 2D, but at least one Z coordinate is not zero. Marking the mol as 3D.\n",
      "[10:54:12] Warning: molecule is tagged as 2D, but at least one Z coordinate is not zero. Marking the mol as 3D.\n",
      "[10:54:12] Warning: molecule is tagged as 2D, but at least one Z coordinate is not zero. Marking the mol as 3D.\n",
      "[10:54:12] Warning: molecule is tagged as 2D, but at least one Z coordinate is not zero. Marking the mol as 3D.\n",
      "[10:54:12] Warning: molecule is tagged as 2D, but at least one Z coordinate is not zero. Marking the mol as 3D.\n",
      "[10:54:12] Warning: molecule is tagged as 2D, but at least one Z coordinate is not zero. Marking the mol as 3D.\n",
      "[10:54:12] Warning: molecule is tagged as 2D, but at least one Z coordinate is not zero. Marking the mol as 3D.\n"
     ]
    }
   ],
   "source": [
    "ligands_dir = sdf_to_pdbqts(Path(\"data/5ht1a-chembl-ki-selected.sdf\"))"
   ]
  },
  {
   "cell_type": "code",
   "execution_count": 12,
   "metadata": {
    "colab": {
     "base_uri": "https://localhost:8080/"
    },
    "id": "PFRW_A0_ZtOU",
    "outputId": "fc028fc5-1965-45c2-ce1d-6b75c4b45ce9"
   },
   "outputs": [
    {
     "data": {
      "text/plain": [
       "PosixPath('data/5ht1a-chembl-ki-selected')"
      ]
     },
     "execution_count": 12,
     "metadata": {},
     "output_type": "execute_result"
    }
   ],
   "source": [
    "ligands_dir"
   ]
  },
  {
   "cell_type": "markdown",
   "metadata": {
    "id": "PNCzvoBdCxs1"
   },
   "source": [
    "## Запускаем докинг"
   ]
  },
  {
   "cell_type": "code",
   "execution_count": 13,
   "metadata": {
    "id": "BkAaiygYoOI4"
   },
   "outputs": [],
   "source": [
    "def run_vina(ligand_path, receptor_path=Path(\"data/7e2y-receptor.pdbqt\")):\n",
    "    vina_command = \" \".join([\n",
    "        \"--receptor\", f\"{receptor_path.absolute().as_posix()}\",\n",
    "        \"--ligand\",   f\" {ligand_path.absolute().as_posix()}\",\n",
    "        \"--out\",      f\"{(ligand_path.parent / f'{ligand_path.stem}_result.pdbqt').absolute().as_posix()}\",\n",
    "        \"--center_x\", f\"{center[0]}\",\n",
    "        \"--center_y\", f\"{center[1]}\",\n",
    "        \"--center_z\", f\"{center[2]}\",\n",
    "        \"--size_x\",   f\"{size[0]}\",\n",
    "        \"--size_y\",   f\"{size[1]}\",\n",
    "        \"--size_z\",   f\"{size[2]}\",\n",
    "        \"--exhaustiveness\", \"1\",  # Можно увеличить, проверял, работает ли функция вообще\n",
    "        \"--num_modes\", \"1\",\n",
    "    ])\n",
    "    logfile = (ligands_dir/f\"{ligand_path.stem}.log\").as_posix()\n",
    "    !./vina {vina_command} > {logfile}"
   ]
  },
  {
   "cell_type": "code",
   "execution_count": 15,
   "metadata": {
    "colab": {
     "background_save": true,
     "base_uri": "https://localhost:8080/"
    },
    "id": "Jy4znPfGoU1R",
    "outputId": "3149c38f-4ad4-4046-f999-870dd5fa2126",
    "scrolled": true
   },
   "outputs": [
    {
     "name": "stdout",
     "output_type": "stream",
     "text": [
      "WARNING: At low exhaustiveness, it may be impossible to utilize all CPUs.\n",
      "^C\n",
      "\n",
      "\n",
      "PDBQT parsing error: Unexpected multi-MODEL tag found in flex residue or ligand PDBQT file. Use \"vina_split\" to split flex residues or ligands in multiple PDBQT files.\n",
      "\n",
      "^C\n"
     ]
    },
    {
     "name": "stderr",
     "output_type": "stream",
     "text": [
      "\n",
      "KeyboardInterrupt\n",
      "\n"
     ]
    }
   ],
   "source": [
    "for ligand_path in ligands_dir.glob(\"*.pdbqt\"):\n",
    "    run_vina(ligand_path)"
   ]
  },
  {
   "cell_type": "markdown",
   "metadata": {
    "id": "SLTIkSFnEC5W"
   },
   "source": [
    "## Конвертируем результат"
   ]
  },
  {
   "cell_type": "code",
   "execution_count": 16,
   "metadata": {
    "id": "iON51OnWqrSu"
   },
   "outputs": [],
   "source": [
    "def pdbqt_to_sdf(result_path):\n",
    "    export_command = (\n",
    "        f\"{result_path.absolute().as_posix()} \"\n",
    "        f\"-o {(result_path.parent / f'{result_path.stem}.sdf').absolute().as_posix()}\"\n",
    "    )\n",
    "    !mk_export.py {export_command}"
   ]
  },
  {
   "cell_type": "code",
   "execution_count": 17,
   "metadata": {
    "id": "RuS9RsU3E3Id"
   },
   "outputs": [],
   "source": [
    "for result_path in ligands_dir.glob(\"*_result.pdbqt\"):\n",
    "    pdbqt_to_sdf(result_path)"
   ]
  },
  {
   "cell_type": "code",
   "execution_count": 18,
   "metadata": {
    "id": "oAZhvbjPjH1V"
   },
   "outputs": [],
   "source": [
    "from rdkit.Chem.rdmolfiles import SDMolSupplier, SDWriter\n",
    "from pathlib import Path\n",
    "\n",
    "with SDWriter(\"5ht1a-selected-docking.sdf\") as dst:\n",
    "    for result_path in ligands_dir.glob(\"*_result.sdf\"):\n",
    "        with SDMolSupplier(result_path.absolute().as_posix()) as src:\n",
    "            for lig in src:\n",
    "                dst.write(lig)"
   ]
  },
  {
   "cell_type": "code",
   "execution_count": null,
   "metadata": {
    "id": "w1gAPyTtp0xW"
   },
   "outputs": [],
   "source": []
  }
 ],
 "metadata": {
  "colab": {
   "provenance": []
  },
  "kernelspec": {
   "display_name": "Python 3 (ipykernel)",
   "language": "python",
   "name": "python3"
  },
  "language_info": {
   "codemirror_mode": {
    "name": "ipython",
    "version": 3
   },
   "file_extension": ".py",
   "mimetype": "text/x-python",
   "name": "python",
   "nbconvert_exporter": "python",
   "pygments_lexer": "ipython3",
   "version": "3.11.6"
  }
 },
 "nbformat": 4,
 "nbformat_minor": 4
}
